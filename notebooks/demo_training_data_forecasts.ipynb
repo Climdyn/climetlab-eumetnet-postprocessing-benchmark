{
 "cells": [
  {
   "cell_type": "markdown",
   "id": "6836fb72",
   "metadata": {},
   "source": [
    "# Eumetnet postprocessing benchmark dataset demo"
   ]
  },
  {
   "cell_type": "markdown",
   "id": "8d98b3f5",
   "metadata": {},
   "source": [
    "Installation with [pip](https://pypi.org/) (if needed)"
   ]
  },
  {
   "cell_type": "code",
   "execution_count": null,
   "id": "53a60658",
   "metadata": {},
   "outputs": [],
   "source": [
    "#!pip install climetlab\n",
    "#!pip install climetlab-eumetnet-postprocessing-benchmark"
   ]
  },
  {
   "cell_type": "markdown",
   "id": "c4c72959",
   "metadata": {},
   "source": [
    "Loading climetlab"
   ]
  },
  {
   "cell_type": "code",
   "execution_count": null,
   "id": "arabic-sally",
   "metadata": {},
   "outputs": [],
   "source": [
    "import climetlab as cml"
   ]
  },
  {
   "cell_type": "markdown",
   "id": "f28463c1",
   "metadata": {},
   "source": [
    "Download of a deterministic high-resolution forecast (the 2 metre temperature)"
   ]
  },
  {
   "cell_type": "code",
   "execution_count": null,
   "id": "affiliated-binding",
   "metadata": {},
   "outputs": [],
   "source": [
    "ds = cml.load_dataset(\n",
    "    \"eumetnet-postprocessing-benchmark-training-data-gridded-forecasts-surface\",\n",
    "    date=\"2017-12-02\",\n",
    "    parameter=\"2t\",\n",
    "    kind=\"highres\",\n",
    ")"
   ]
  },
  {
   "cell_type": "markdown",
   "id": "a534b8a0",
   "metadata": {},
   "source": [
    "The `cmlds` object returned is a climetlab datasource that can be converted to various format.\n",
    "Note that the data are cached temporarily on your disk so next time you ask for this forecast I might be faster."
   ]
  },
  {
   "cell_type": "markdown",
   "id": "9e68721a",
   "metadata": {},
   "source": [
    "For example, conversion to a [xarray](http://xarray.pydata.org/en/stable/index.html) :"
   ]
  },
  {
   "cell_type": "code",
   "execution_count": null,
   "id": "boring-bryan",
   "metadata": {},
   "outputs": [],
   "source": [
    "fcs = ds.to_xarray()\n",
    "fcs"
   ]
  },
  {
   "cell_type": "markdown",
   "id": "f125e024",
   "metadata": {},
   "source": [
    "Plotting using climetlab and [magics](https://github.com/ecmwf/magics-python) (still in development)"
   ]
  },
  {
   "cell_type": "code",
   "execution_count": null,
   "id": "416c2ff7",
   "metadata": {},
   "outputs": [],
   "source": [
    "cml.plot_map(ds[5], # plot of the 5th time step\n",
    "             foreground=dict(\n",
    "                 map_grid=False,\n",
    "                 map_label=False,\n",
    "                 map_grid_frame=True,\n",
    "                 map_grid_frame_thickness=5,\n",
    "                 map_boundaries=True,\n",
    "                ),\n",
    "            )"
   ]
  },
  {
   "cell_type": "markdown",
   "id": "b856799d",
   "metadata": {},
   "source": [
    "Retrieving the observations corresponding to the forecasts (in xarray format)"
   ]
  },
  {
   "cell_type": "code",
   "execution_count": null,
   "id": "b24131d2",
   "metadata": {},
   "outputs": [],
   "source": [
    "obs = ds.get_observations_as_xarray()\n",
    "obs"
   ]
  },
  {
   "cell_type": "markdown",
   "id": "afdd5ee9",
   "metadata": {},
   "source": [
    "Plotting the observations with magics"
   ]
  },
  {
   "cell_type": "code",
   "execution_count": null,
   "id": "73a56068",
   "metadata": {},
   "outputs": [],
   "source": [
    "cml.plot_map(obs.t2m[0,0,5,0], # plot of the 5th time step\n",
    "             foreground=dict(\n",
    "                 map_grid=False,\n",
    "                 map_label=False,\n",
    "                 map_grid_frame=True,\n",
    "                 map_grid_frame_thickness=5,\n",
    "                 map_boundaries=True,\n",
    "                ),\n",
    "            )"
   ]
  },
  {
   "cell_type": "markdown",
   "id": "9b6113aa",
   "metadata": {},
   "source": [
    "Compute the difference between the forecast and the observations"
   ]
  },
  {
   "cell_type": "code",
   "execution_count": null,
   "id": "d1a89682",
   "metadata": {},
   "outputs": [],
   "source": [
    "diff = fcs - obs\n",
    "diff"
   ]
  },
  {
   "cell_type": "markdown",
   "id": "9f6a00ec",
   "metadata": {},
   "source": [
    "and plot"
   ]
  },
  {
   "cell_type": "code",
   "execution_count": null,
   "id": "72923337",
   "metadata": {},
   "outputs": [],
   "source": [
    "cml.plot_map(diff.t2m[0,0,5,0], # plot of the 5th time step\n",
    "             foreground=dict(\n",
    "                 map_grid=False,\n",
    "                 map_label=False,\n",
    "                 map_grid_frame=True,\n",
    "                 map_grid_frame_thickness=5,\n",
    "                 map_boundaries=True,\n",
    "                ),\n",
    "            )"
   ]
  },
  {
   "cell_type": "markdown",
   "id": "c7f58a5c",
   "metadata": {},
   "source": [
    "Save the forecast and observations on the hard drive as a netcdf"
   ]
  },
  {
   "cell_type": "code",
   "execution_count": null,
   "id": "abc0dd18",
   "metadata": {},
   "outputs": [],
   "source": [
    "fcs.to_netcdf('fcs_hr_2017-12-02.nc')\n",
    "obs.to_netcdf('obs_2017-12-02.nc')\n",
    "!ls"
   ]
  },
  {
   "cell_type": "code",
   "execution_count": null,
   "id": "c2b85aa2",
   "metadata": {},
   "outputs": [],
   "source": []
  }
 ],
 "metadata": {
  "kernelspec": {
   "display_name": "Python [conda env:climetlab]",
   "language": "python",
   "name": "conda-env-climetlab-py"
  },
  "language_info": {
   "codemirror_mode": {
    "name": "ipython",
    "version": 3
   },
   "file_extension": ".py",
   "mimetype": "text/x-python",
   "name": "python",
   "nbconvert_exporter": "python",
   "pygments_lexer": "ipython3",
   "version": "3.9.7"
  }
 },
 "nbformat": 4,
 "nbformat_minor": 5
}
